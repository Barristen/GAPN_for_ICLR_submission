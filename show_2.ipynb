{
 "cells": [
  {
   "cell_type": "code",
   "execution_count": null,
   "id": "bbd6aac2-276d-40ec-94d4-2e7efa1835a9",
   "metadata": {
    "execution": {
     "iopub.execute_input": "2023-09-02T05:18:08.838469Z",
     "iopub.status.busy": "2023-09-02T05:18:08.838345Z",
     "iopub.status.idle": "2023-09-02T05:18:09.174200Z",
     "shell.execute_reply": "2023-09-02T05:18:09.173270Z"
    }
   },
   "outputs": [],
   "source": [
    "import py3Dmol\n",
    "import glob\n",
    "import matplotlib.pyplot as plt\n",
    "\n",
    "view = py3Dmol.view(js='https://3dmol.org/build/3Dmol.js',)\n",
    "view.addModel(open('temp_pred.pdb','r').read(),'pdb')\n",
    "for n,chain,color in zip(range(26),list(\"ABCDEFGHIJKLMNOPQRSTUVWXYZ\"),\n",
    "                     [\"lime\",\"cyan\",\"magenta\",\"yellow\",\"salmon\",\"white\",\"blue\",\"orange\",\n",
    "                     \"grey\",\"brown\",\"lime\",\"cyan\",\"magenta\",\"yellow\",\"salmon\",\"white\",\"blue\",\"orange\",\n",
    "                     \"grey\",\"brown\",\"lime\",\"cyan\",\"magenta\",\"yellow\",\"salmon\",\"white\",\"blue\",\"orange\",\n",
    "                     \"grey\",\"brown\"]):\n",
    "      view.setStyle({'chain':chain},{'cartoon': {'color':color}})\n",
    "view.zoomTo()\n",
    "view.show()"
   ]
  }
 ],
 "metadata": {
  "kernelspec": {
   "display_name": "Python 3 (ipykernel)",
   "language": "python",
   "name": "python3"
  },
  "language_info": {
   "codemirror_mode": {
    "name": "ipython",
    "version": 3
   },
   "file_extension": ".py",
   "mimetype": "text/x-python",
   "name": "python",
   "nbconvert_exporter": "python",
   "pygments_lexer": "ipython3",
   "version": "3.9.17"
  }
 },
 "nbformat": 4,
 "nbformat_minor": 5
}
